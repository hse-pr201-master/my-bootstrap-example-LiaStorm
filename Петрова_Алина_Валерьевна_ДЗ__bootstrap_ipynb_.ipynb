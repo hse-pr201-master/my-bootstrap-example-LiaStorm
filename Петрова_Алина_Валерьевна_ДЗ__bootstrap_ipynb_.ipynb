{
  "nbformat": 4,
  "nbformat_minor": 0,
  "metadata": {
    "colab": {
      "provenance": [],
      "collapsed_sections": [
        "pFsNvTDR_Qt1"
      ]
    },
    "kernelspec": {
      "name": "python3",
      "display_name": "Python 3"
    },
    "language_info": {
      "name": "python"
    }
  },
  "cells": [
    {
      "cell_type": "code",
      "execution_count": 1,
      "metadata": {
        "id": "ljxvm8BeWy0B"
      },
      "outputs": [],
      "source": [
        "import numpy as np\n",
        "import pandas as pd\n",
        "import seaborn as sns"
      ]
    },
    {
      "cell_type": "code",
      "source": [
        "!pip install arch"
      ],
      "metadata": {
        "colab": {
          "base_uri": "https://localhost:8080/"
        },
        "id": "8AlzGsIscLLQ",
        "outputId": "6033670a-3b0b-402e-d14f-144554188a7f"
      },
      "execution_count": 2,
      "outputs": [
        {
          "output_type": "stream",
          "name": "stdout",
          "text": [
            "Collecting arch\n",
            "  Downloading arch-6.2.0-cp310-cp310-manylinux_2_17_x86_64.manylinux2014_x86_64.whl (981 kB)\n",
            "\u001b[2K     \u001b[90m━━━━━━━━━━━━━━━━━━━━━━━━━━━━━━━━━━━━━━━━\u001b[0m \u001b[32m981.7/981.7 kB\u001b[0m \u001b[31m5.5 MB/s\u001b[0m eta \u001b[36m0:00:00\u001b[0m\n",
            "\u001b[?25hRequirement already satisfied: numpy>=1.19 in /usr/local/lib/python3.10/dist-packages (from arch) (1.23.5)\n",
            "Requirement already satisfied: scipy>=1.5 in /usr/local/lib/python3.10/dist-packages (from arch) (1.11.3)\n",
            "Requirement already satisfied: pandas>=1.1 in /usr/local/lib/python3.10/dist-packages (from arch) (1.5.3)\n",
            "Requirement already satisfied: statsmodels>=0.12 in /usr/local/lib/python3.10/dist-packages (from arch) (0.14.0)\n",
            "Requirement already satisfied: python-dateutil>=2.8.1 in /usr/local/lib/python3.10/dist-packages (from pandas>=1.1->arch) (2.8.2)\n",
            "Requirement already satisfied: pytz>=2020.1 in /usr/local/lib/python3.10/dist-packages (from pandas>=1.1->arch) (2023.3.post1)\n",
            "Requirement already satisfied: patsy>=0.5.2 in /usr/local/lib/python3.10/dist-packages (from statsmodels>=0.12->arch) (0.5.3)\n",
            "Requirement already satisfied: packaging>=21.3 in /usr/local/lib/python3.10/dist-packages (from statsmodels>=0.12->arch) (23.2)\n",
            "Requirement already satisfied: six in /usr/local/lib/python3.10/dist-packages (from patsy>=0.5.2->statsmodels>=0.12->arch) (1.16.0)\n",
            "Installing collected packages: arch\n",
            "Successfully installed arch-6.2.0\n"
          ]
        }
      ]
    },
    {
      "cell_type": "code",
      "source": [
        "from arch.bootstrap import IIDBootstrap, IndependentSamplesBootstrap"
      ],
      "metadata": {
        "id": "n8cyu1dIcaUW"
      },
      "execution_count": 3,
      "outputs": []
    },
    {
      "cell_type": "code",
      "source": [
        "# Загрузим данные и посмотрим на небольшую часть данных о продажах в магазине AppleStore\n",
        "data = pd.read_csv('./AppleStore.csv')\n",
        "data.head()"
      ],
      "metadata": {
        "colab": {
          "base_uri": "https://localhost:8080/",
          "height": 434
        },
        "id": "Yn3luklEublq",
        "outputId": "e40a6e74-1256-4dc9-fec1-16fd0962320a"
      },
      "execution_count": 4,
      "outputs": [
        {
          "output_type": "execute_result",
          "data": {
            "text/plain": [
              "   Unnamed: 0         id                                         track_name  \\\n",
              "0           1  281656475                                    PAC-MAN Premium   \n",
              "1           2  281796108                          Evernote - stay organized   \n",
              "2           3  281940292    WeatherBug - Local Weather, Radar, Maps, Alerts   \n",
              "3           4  282614216  eBay: Best App to Buy, Sell, Save! Online Shop...   \n",
              "4           5  282935706                                              Bible   \n",
              "\n",
              "   size_bytes currency  price  rating_count_tot  rating_count_ver  \\\n",
              "0   100788224      USD   3.99             21292                26   \n",
              "1   158578688      USD   0.00            161065                26   \n",
              "2   100524032      USD   0.00            188583              2822   \n",
              "3   128512000      USD   0.00            262241               649   \n",
              "4    92774400      USD   0.00            985920              5320   \n",
              "\n",
              "   user_rating  user_rating_ver     ver cont_rating   prime_genre  \\\n",
              "0          4.0              4.5   6.3.5          4+         Games   \n",
              "1          4.0              3.5   8.2.2          4+  Productivity   \n",
              "2          3.5              4.5   5.0.0          4+       Weather   \n",
              "3          4.0              4.5  5.10.0         12+      Shopping   \n",
              "4          4.5              5.0   7.5.1          4+     Reference   \n",
              "\n",
              "   sup_devices.num  ipadSc_urls.num  lang.num  vpp_lic  \n",
              "0               38                5        10        1  \n",
              "1               37                5        23        1  \n",
              "2               37                5         3        1  \n",
              "3               37                5         9        1  \n",
              "4               37                5        45        1  "
            ],
            "text/html": [
              "\n",
              "  <div id=\"df-0ea9bd4b-1fb5-49ee-ae81-6eb5767b4127\" class=\"colab-df-container\">\n",
              "    <div>\n",
              "<style scoped>\n",
              "    .dataframe tbody tr th:only-of-type {\n",
              "        vertical-align: middle;\n",
              "    }\n",
              "\n",
              "    .dataframe tbody tr th {\n",
              "        vertical-align: top;\n",
              "    }\n",
              "\n",
              "    .dataframe thead th {\n",
              "        text-align: right;\n",
              "    }\n",
              "</style>\n",
              "<table border=\"1\" class=\"dataframe\">\n",
              "  <thead>\n",
              "    <tr style=\"text-align: right;\">\n",
              "      <th></th>\n",
              "      <th>Unnamed: 0</th>\n",
              "      <th>id</th>\n",
              "      <th>track_name</th>\n",
              "      <th>size_bytes</th>\n",
              "      <th>currency</th>\n",
              "      <th>price</th>\n",
              "      <th>rating_count_tot</th>\n",
              "      <th>rating_count_ver</th>\n",
              "      <th>user_rating</th>\n",
              "      <th>user_rating_ver</th>\n",
              "      <th>ver</th>\n",
              "      <th>cont_rating</th>\n",
              "      <th>prime_genre</th>\n",
              "      <th>sup_devices.num</th>\n",
              "      <th>ipadSc_urls.num</th>\n",
              "      <th>lang.num</th>\n",
              "      <th>vpp_lic</th>\n",
              "    </tr>\n",
              "  </thead>\n",
              "  <tbody>\n",
              "    <tr>\n",
              "      <th>0</th>\n",
              "      <td>1</td>\n",
              "      <td>281656475</td>\n",
              "      <td>PAC-MAN Premium</td>\n",
              "      <td>100788224</td>\n",
              "      <td>USD</td>\n",
              "      <td>3.99</td>\n",
              "      <td>21292</td>\n",
              "      <td>26</td>\n",
              "      <td>4.0</td>\n",
              "      <td>4.5</td>\n",
              "      <td>6.3.5</td>\n",
              "      <td>4+</td>\n",
              "      <td>Games</td>\n",
              "      <td>38</td>\n",
              "      <td>5</td>\n",
              "      <td>10</td>\n",
              "      <td>1</td>\n",
              "    </tr>\n",
              "    <tr>\n",
              "      <th>1</th>\n",
              "      <td>2</td>\n",
              "      <td>281796108</td>\n",
              "      <td>Evernote - stay organized</td>\n",
              "      <td>158578688</td>\n",
              "      <td>USD</td>\n",
              "      <td>0.00</td>\n",
              "      <td>161065</td>\n",
              "      <td>26</td>\n",
              "      <td>4.0</td>\n",
              "      <td>3.5</td>\n",
              "      <td>8.2.2</td>\n",
              "      <td>4+</td>\n",
              "      <td>Productivity</td>\n",
              "      <td>37</td>\n",
              "      <td>5</td>\n",
              "      <td>23</td>\n",
              "      <td>1</td>\n",
              "    </tr>\n",
              "    <tr>\n",
              "      <th>2</th>\n",
              "      <td>3</td>\n",
              "      <td>281940292</td>\n",
              "      <td>WeatherBug - Local Weather, Radar, Maps, Alerts</td>\n",
              "      <td>100524032</td>\n",
              "      <td>USD</td>\n",
              "      <td>0.00</td>\n",
              "      <td>188583</td>\n",
              "      <td>2822</td>\n",
              "      <td>3.5</td>\n",
              "      <td>4.5</td>\n",
              "      <td>5.0.0</td>\n",
              "      <td>4+</td>\n",
              "      <td>Weather</td>\n",
              "      <td>37</td>\n",
              "      <td>5</td>\n",
              "      <td>3</td>\n",
              "      <td>1</td>\n",
              "    </tr>\n",
              "    <tr>\n",
              "      <th>3</th>\n",
              "      <td>4</td>\n",
              "      <td>282614216</td>\n",
              "      <td>eBay: Best App to Buy, Sell, Save! Online Shop...</td>\n",
              "      <td>128512000</td>\n",
              "      <td>USD</td>\n",
              "      <td>0.00</td>\n",
              "      <td>262241</td>\n",
              "      <td>649</td>\n",
              "      <td>4.0</td>\n",
              "      <td>4.5</td>\n",
              "      <td>5.10.0</td>\n",
              "      <td>12+</td>\n",
              "      <td>Shopping</td>\n",
              "      <td>37</td>\n",
              "      <td>5</td>\n",
              "      <td>9</td>\n",
              "      <td>1</td>\n",
              "    </tr>\n",
              "    <tr>\n",
              "      <th>4</th>\n",
              "      <td>5</td>\n",
              "      <td>282935706</td>\n",
              "      <td>Bible</td>\n",
              "      <td>92774400</td>\n",
              "      <td>USD</td>\n",
              "      <td>0.00</td>\n",
              "      <td>985920</td>\n",
              "      <td>5320</td>\n",
              "      <td>4.5</td>\n",
              "      <td>5.0</td>\n",
              "      <td>7.5.1</td>\n",
              "      <td>4+</td>\n",
              "      <td>Reference</td>\n",
              "      <td>37</td>\n",
              "      <td>5</td>\n",
              "      <td>45</td>\n",
              "      <td>1</td>\n",
              "    </tr>\n",
              "  </tbody>\n",
              "</table>\n",
              "</div>\n",
              "    <div class=\"colab-df-buttons\">\n",
              "\n",
              "  <div class=\"colab-df-container\">\n",
              "    <button class=\"colab-df-convert\" onclick=\"convertToInteractive('df-0ea9bd4b-1fb5-49ee-ae81-6eb5767b4127')\"\n",
              "            title=\"Convert this dataframe to an interactive table.\"\n",
              "            style=\"display:none;\">\n",
              "\n",
              "  <svg xmlns=\"http://www.w3.org/2000/svg\" height=\"24px\" viewBox=\"0 -960 960 960\">\n",
              "    <path d=\"M120-120v-720h720v720H120Zm60-500h600v-160H180v160Zm220 220h160v-160H400v160Zm0 220h160v-160H400v160ZM180-400h160v-160H180v160Zm440 0h160v-160H620v160ZM180-180h160v-160H180v160Zm440 0h160v-160H620v160Z\"/>\n",
              "  </svg>\n",
              "    </button>\n",
              "\n",
              "  <style>\n",
              "    .colab-df-container {\n",
              "      display:flex;\n",
              "      gap: 12px;\n",
              "    }\n",
              "\n",
              "    .colab-df-convert {\n",
              "      background-color: #E8F0FE;\n",
              "      border: none;\n",
              "      border-radius: 50%;\n",
              "      cursor: pointer;\n",
              "      display: none;\n",
              "      fill: #1967D2;\n",
              "      height: 32px;\n",
              "      padding: 0 0 0 0;\n",
              "      width: 32px;\n",
              "    }\n",
              "\n",
              "    .colab-df-convert:hover {\n",
              "      background-color: #E2EBFA;\n",
              "      box-shadow: 0px 1px 2px rgba(60, 64, 67, 0.3), 0px 1px 3px 1px rgba(60, 64, 67, 0.15);\n",
              "      fill: #174EA6;\n",
              "    }\n",
              "\n",
              "    .colab-df-buttons div {\n",
              "      margin-bottom: 4px;\n",
              "    }\n",
              "\n",
              "    [theme=dark] .colab-df-convert {\n",
              "      background-color: #3B4455;\n",
              "      fill: #D2E3FC;\n",
              "    }\n",
              "\n",
              "    [theme=dark] .colab-df-convert:hover {\n",
              "      background-color: #434B5C;\n",
              "      box-shadow: 0px 1px 3px 1px rgba(0, 0, 0, 0.15);\n",
              "      filter: drop-shadow(0px 1px 2px rgba(0, 0, 0, 0.3));\n",
              "      fill: #FFFFFF;\n",
              "    }\n",
              "  </style>\n",
              "\n",
              "    <script>\n",
              "      const buttonEl =\n",
              "        document.querySelector('#df-0ea9bd4b-1fb5-49ee-ae81-6eb5767b4127 button.colab-df-convert');\n",
              "      buttonEl.style.display =\n",
              "        google.colab.kernel.accessAllowed ? 'block' : 'none';\n",
              "\n",
              "      async function convertToInteractive(key) {\n",
              "        const element = document.querySelector('#df-0ea9bd4b-1fb5-49ee-ae81-6eb5767b4127');\n",
              "        const dataTable =\n",
              "          await google.colab.kernel.invokeFunction('convertToInteractive',\n",
              "                                                    [key], {});\n",
              "        if (!dataTable) return;\n",
              "\n",
              "        const docLinkHtml = 'Like what you see? Visit the ' +\n",
              "          '<a target=\"_blank\" href=https://colab.research.google.com/notebooks/data_table.ipynb>data table notebook</a>'\n",
              "          + ' to learn more about interactive tables.';\n",
              "        element.innerHTML = '';\n",
              "        dataTable['output_type'] = 'display_data';\n",
              "        await google.colab.output.renderOutput(dataTable, element);\n",
              "        const docLink = document.createElement('div');\n",
              "        docLink.innerHTML = docLinkHtml;\n",
              "        element.appendChild(docLink);\n",
              "      }\n",
              "    </script>\n",
              "  </div>\n",
              "\n",
              "\n",
              "<div id=\"df-878d22b3-18be-4451-a92e-434803f2c7d1\">\n",
              "  <button class=\"colab-df-quickchart\" onclick=\"quickchart('df-878d22b3-18be-4451-a92e-434803f2c7d1')\"\n",
              "            title=\"Suggest charts\"\n",
              "            style=\"display:none;\">\n",
              "\n",
              "<svg xmlns=\"http://www.w3.org/2000/svg\" height=\"24px\"viewBox=\"0 0 24 24\"\n",
              "     width=\"24px\">\n",
              "    <g>\n",
              "        <path d=\"M19 3H5c-1.1 0-2 .9-2 2v14c0 1.1.9 2 2 2h14c1.1 0 2-.9 2-2V5c0-1.1-.9-2-2-2zM9 17H7v-7h2v7zm4 0h-2V7h2v10zm4 0h-2v-4h2v4z\"/>\n",
              "    </g>\n",
              "</svg>\n",
              "  </button>\n",
              "\n",
              "<style>\n",
              "  .colab-df-quickchart {\n",
              "      --bg-color: #E8F0FE;\n",
              "      --fill-color: #1967D2;\n",
              "      --hover-bg-color: #E2EBFA;\n",
              "      --hover-fill-color: #174EA6;\n",
              "      --disabled-fill-color: #AAA;\n",
              "      --disabled-bg-color: #DDD;\n",
              "  }\n",
              "\n",
              "  [theme=dark] .colab-df-quickchart {\n",
              "      --bg-color: #3B4455;\n",
              "      --fill-color: #D2E3FC;\n",
              "      --hover-bg-color: #434B5C;\n",
              "      --hover-fill-color: #FFFFFF;\n",
              "      --disabled-bg-color: #3B4455;\n",
              "      --disabled-fill-color: #666;\n",
              "  }\n",
              "\n",
              "  .colab-df-quickchart {\n",
              "    background-color: var(--bg-color);\n",
              "    border: none;\n",
              "    border-radius: 50%;\n",
              "    cursor: pointer;\n",
              "    display: none;\n",
              "    fill: var(--fill-color);\n",
              "    height: 32px;\n",
              "    padding: 0;\n",
              "    width: 32px;\n",
              "  }\n",
              "\n",
              "  .colab-df-quickchart:hover {\n",
              "    background-color: var(--hover-bg-color);\n",
              "    box-shadow: 0 1px 2px rgba(60, 64, 67, 0.3), 0 1px 3px 1px rgba(60, 64, 67, 0.15);\n",
              "    fill: var(--button-hover-fill-color);\n",
              "  }\n",
              "\n",
              "  .colab-df-quickchart-complete:disabled,\n",
              "  .colab-df-quickchart-complete:disabled:hover {\n",
              "    background-color: var(--disabled-bg-color);\n",
              "    fill: var(--disabled-fill-color);\n",
              "    box-shadow: none;\n",
              "  }\n",
              "\n",
              "  .colab-df-spinner {\n",
              "    border: 2px solid var(--fill-color);\n",
              "    border-color: transparent;\n",
              "    border-bottom-color: var(--fill-color);\n",
              "    animation:\n",
              "      spin 1s steps(1) infinite;\n",
              "  }\n",
              "\n",
              "  @keyframes spin {\n",
              "    0% {\n",
              "      border-color: transparent;\n",
              "      border-bottom-color: var(--fill-color);\n",
              "      border-left-color: var(--fill-color);\n",
              "    }\n",
              "    20% {\n",
              "      border-color: transparent;\n",
              "      border-left-color: var(--fill-color);\n",
              "      border-top-color: var(--fill-color);\n",
              "    }\n",
              "    30% {\n",
              "      border-color: transparent;\n",
              "      border-left-color: var(--fill-color);\n",
              "      border-top-color: var(--fill-color);\n",
              "      border-right-color: var(--fill-color);\n",
              "    }\n",
              "    40% {\n",
              "      border-color: transparent;\n",
              "      border-right-color: var(--fill-color);\n",
              "      border-top-color: var(--fill-color);\n",
              "    }\n",
              "    60% {\n",
              "      border-color: transparent;\n",
              "      border-right-color: var(--fill-color);\n",
              "    }\n",
              "    80% {\n",
              "      border-color: transparent;\n",
              "      border-right-color: var(--fill-color);\n",
              "      border-bottom-color: var(--fill-color);\n",
              "    }\n",
              "    90% {\n",
              "      border-color: transparent;\n",
              "      border-bottom-color: var(--fill-color);\n",
              "    }\n",
              "  }\n",
              "</style>\n",
              "\n",
              "  <script>\n",
              "    async function quickchart(key) {\n",
              "      const quickchartButtonEl =\n",
              "        document.querySelector('#' + key + ' button');\n",
              "      quickchartButtonEl.disabled = true;  // To prevent multiple clicks.\n",
              "      quickchartButtonEl.classList.add('colab-df-spinner');\n",
              "      try {\n",
              "        const charts = await google.colab.kernel.invokeFunction(\n",
              "            'suggestCharts', [key], {});\n",
              "      } catch (error) {\n",
              "        console.error('Error during call to suggestCharts:', error);\n",
              "      }\n",
              "      quickchartButtonEl.classList.remove('colab-df-spinner');\n",
              "      quickchartButtonEl.classList.add('colab-df-quickchart-complete');\n",
              "    }\n",
              "    (() => {\n",
              "      let quickchartButtonEl =\n",
              "        document.querySelector('#df-878d22b3-18be-4451-a92e-434803f2c7d1 button');\n",
              "      quickchartButtonEl.style.display =\n",
              "        google.colab.kernel.accessAllowed ? 'block' : 'none';\n",
              "    })();\n",
              "  </script>\n",
              "</div>\n",
              "    </div>\n",
              "  </div>\n"
            ]
          },
          "metadata": {},
          "execution_count": 4
        }
      ]
    },
    {
      "cell_type": "code",
      "source": [
        "data.dtypes"
      ],
      "metadata": {
        "colab": {
          "base_uri": "https://localhost:8080/"
        },
        "id": "luGs33CKzZrJ",
        "outputId": "5c65eba3-b3aa-4cb8-8930-6e4a5c90fe78"
      },
      "execution_count": 7,
      "outputs": [
        {
          "output_type": "execute_result",
          "data": {
            "text/plain": [
              "Unnamed: 0            int64\n",
              "id                    int64\n",
              "track_name           object\n",
              "size_bytes            int64\n",
              "currency             object\n",
              "price               float64\n",
              "rating_count_tot      int64\n",
              "rating_count_ver      int64\n",
              "user_rating         float64\n",
              "user_rating_ver     float64\n",
              "ver                  object\n",
              "cont_rating          object\n",
              "prime_genre          object\n",
              "sup_devices.num       int64\n",
              "ipadSc_urls.num       int64\n",
              "lang.num              int64\n",
              "vpp_lic               int64\n",
              "dtype: object"
            ]
          },
          "metadata": {},
          "execution_count": 7
        }
      ]
    },
    {
      "cell_type": "code",
      "source": [
        "data.describe()"
      ],
      "metadata": {
        "colab": {
          "base_uri": "https://localhost:8080/",
          "height": 320
        },
        "id": "P7sOr4_w1pkA",
        "outputId": "0f8f575a-8d39-4454-ea8f-6364b0be3773"
      },
      "execution_count": 16,
      "outputs": [
        {
          "output_type": "execute_result",
          "data": {
            "text/plain": [
              "         Unnamed: 0            id    size_bytes        price  \\\n",
              "count   7197.000000  7.197000e+03  7.197000e+03  7197.000000   \n",
              "mean    4759.069612  8.631310e+08  1.991345e+08     1.726218   \n",
              "std     3093.625213  2.712368e+08  3.592069e+08     5.833006   \n",
              "min        1.000000  2.816565e+08  5.898240e+05     0.000000   \n",
              "25%     2090.000000  6.000937e+08  4.692275e+07     0.000000   \n",
              "50%     4380.000000  9.781482e+08  9.715302e+07     0.000000   \n",
              "75%     7223.000000  1.082310e+09  1.819249e+08     1.990000   \n",
              "max    11097.000000  1.188376e+09  4.025970e+09   299.990000   \n",
              "\n",
              "       rating_count_tot  rating_count_ver  user_rating  user_rating_ver  \\\n",
              "count      7.197000e+03       7197.000000  7197.000000      7197.000000   \n",
              "mean       1.289291e+04        460.373906     3.526956         3.253578   \n",
              "std        7.573941e+04       3920.455183     1.517948         1.809363   \n",
              "min        0.000000e+00          0.000000     0.000000         0.000000   \n",
              "25%        2.800000e+01          1.000000     3.500000         2.500000   \n",
              "50%        3.000000e+02         23.000000     4.000000         4.000000   \n",
              "75%        2.793000e+03        140.000000     4.500000         4.500000   \n",
              "max        2.974676e+06     177050.000000     5.000000         5.000000   \n",
              "\n",
              "       sup_devices.num  ipadSc_urls.num     lang.num      vpp_lic  \n",
              "count      7197.000000      7197.000000  7197.000000  7197.000000  \n",
              "mean         37.361817         3.707100     5.434903     0.993053  \n",
              "std           3.737715         1.986005     7.919593     0.083066  \n",
              "min           9.000000         0.000000     0.000000     0.000000  \n",
              "25%          37.000000         3.000000     1.000000     1.000000  \n",
              "50%          37.000000         5.000000     1.000000     1.000000  \n",
              "75%          38.000000         5.000000     8.000000     1.000000  \n",
              "max          47.000000         5.000000    75.000000     1.000000  "
            ],
            "text/html": [
              "\n",
              "  <div id=\"df-bc369bef-9d61-4852-add5-50ce26c2b5a0\" class=\"colab-df-container\">\n",
              "    <div>\n",
              "<style scoped>\n",
              "    .dataframe tbody tr th:only-of-type {\n",
              "        vertical-align: middle;\n",
              "    }\n",
              "\n",
              "    .dataframe tbody tr th {\n",
              "        vertical-align: top;\n",
              "    }\n",
              "\n",
              "    .dataframe thead th {\n",
              "        text-align: right;\n",
              "    }\n",
              "</style>\n",
              "<table border=\"1\" class=\"dataframe\">\n",
              "  <thead>\n",
              "    <tr style=\"text-align: right;\">\n",
              "      <th></th>\n",
              "      <th>Unnamed: 0</th>\n",
              "      <th>id</th>\n",
              "      <th>size_bytes</th>\n",
              "      <th>price</th>\n",
              "      <th>rating_count_tot</th>\n",
              "      <th>rating_count_ver</th>\n",
              "      <th>user_rating</th>\n",
              "      <th>user_rating_ver</th>\n",
              "      <th>sup_devices.num</th>\n",
              "      <th>ipadSc_urls.num</th>\n",
              "      <th>lang.num</th>\n",
              "      <th>vpp_lic</th>\n",
              "    </tr>\n",
              "  </thead>\n",
              "  <tbody>\n",
              "    <tr>\n",
              "      <th>count</th>\n",
              "      <td>7197.000000</td>\n",
              "      <td>7.197000e+03</td>\n",
              "      <td>7.197000e+03</td>\n",
              "      <td>7197.000000</td>\n",
              "      <td>7.197000e+03</td>\n",
              "      <td>7197.000000</td>\n",
              "      <td>7197.000000</td>\n",
              "      <td>7197.000000</td>\n",
              "      <td>7197.000000</td>\n",
              "      <td>7197.000000</td>\n",
              "      <td>7197.000000</td>\n",
              "      <td>7197.000000</td>\n",
              "    </tr>\n",
              "    <tr>\n",
              "      <th>mean</th>\n",
              "      <td>4759.069612</td>\n",
              "      <td>8.631310e+08</td>\n",
              "      <td>1.991345e+08</td>\n",
              "      <td>1.726218</td>\n",
              "      <td>1.289291e+04</td>\n",
              "      <td>460.373906</td>\n",
              "      <td>3.526956</td>\n",
              "      <td>3.253578</td>\n",
              "      <td>37.361817</td>\n",
              "      <td>3.707100</td>\n",
              "      <td>5.434903</td>\n",
              "      <td>0.993053</td>\n",
              "    </tr>\n",
              "    <tr>\n",
              "      <th>std</th>\n",
              "      <td>3093.625213</td>\n",
              "      <td>2.712368e+08</td>\n",
              "      <td>3.592069e+08</td>\n",
              "      <td>5.833006</td>\n",
              "      <td>7.573941e+04</td>\n",
              "      <td>3920.455183</td>\n",
              "      <td>1.517948</td>\n",
              "      <td>1.809363</td>\n",
              "      <td>3.737715</td>\n",
              "      <td>1.986005</td>\n",
              "      <td>7.919593</td>\n",
              "      <td>0.083066</td>\n",
              "    </tr>\n",
              "    <tr>\n",
              "      <th>min</th>\n",
              "      <td>1.000000</td>\n",
              "      <td>2.816565e+08</td>\n",
              "      <td>5.898240e+05</td>\n",
              "      <td>0.000000</td>\n",
              "      <td>0.000000e+00</td>\n",
              "      <td>0.000000</td>\n",
              "      <td>0.000000</td>\n",
              "      <td>0.000000</td>\n",
              "      <td>9.000000</td>\n",
              "      <td>0.000000</td>\n",
              "      <td>0.000000</td>\n",
              "      <td>0.000000</td>\n",
              "    </tr>\n",
              "    <tr>\n",
              "      <th>25%</th>\n",
              "      <td>2090.000000</td>\n",
              "      <td>6.000937e+08</td>\n",
              "      <td>4.692275e+07</td>\n",
              "      <td>0.000000</td>\n",
              "      <td>2.800000e+01</td>\n",
              "      <td>1.000000</td>\n",
              "      <td>3.500000</td>\n",
              "      <td>2.500000</td>\n",
              "      <td>37.000000</td>\n",
              "      <td>3.000000</td>\n",
              "      <td>1.000000</td>\n",
              "      <td>1.000000</td>\n",
              "    </tr>\n",
              "    <tr>\n",
              "      <th>50%</th>\n",
              "      <td>4380.000000</td>\n",
              "      <td>9.781482e+08</td>\n",
              "      <td>9.715302e+07</td>\n",
              "      <td>0.000000</td>\n",
              "      <td>3.000000e+02</td>\n",
              "      <td>23.000000</td>\n",
              "      <td>4.000000</td>\n",
              "      <td>4.000000</td>\n",
              "      <td>37.000000</td>\n",
              "      <td>5.000000</td>\n",
              "      <td>1.000000</td>\n",
              "      <td>1.000000</td>\n",
              "    </tr>\n",
              "    <tr>\n",
              "      <th>75%</th>\n",
              "      <td>7223.000000</td>\n",
              "      <td>1.082310e+09</td>\n",
              "      <td>1.819249e+08</td>\n",
              "      <td>1.990000</td>\n",
              "      <td>2.793000e+03</td>\n",
              "      <td>140.000000</td>\n",
              "      <td>4.500000</td>\n",
              "      <td>4.500000</td>\n",
              "      <td>38.000000</td>\n",
              "      <td>5.000000</td>\n",
              "      <td>8.000000</td>\n",
              "      <td>1.000000</td>\n",
              "    </tr>\n",
              "    <tr>\n",
              "      <th>max</th>\n",
              "      <td>11097.000000</td>\n",
              "      <td>1.188376e+09</td>\n",
              "      <td>4.025970e+09</td>\n",
              "      <td>299.990000</td>\n",
              "      <td>2.974676e+06</td>\n",
              "      <td>177050.000000</td>\n",
              "      <td>5.000000</td>\n",
              "      <td>5.000000</td>\n",
              "      <td>47.000000</td>\n",
              "      <td>5.000000</td>\n",
              "      <td>75.000000</td>\n",
              "      <td>1.000000</td>\n",
              "    </tr>\n",
              "  </tbody>\n",
              "</table>\n",
              "</div>\n",
              "    <div class=\"colab-df-buttons\">\n",
              "\n",
              "  <div class=\"colab-df-container\">\n",
              "    <button class=\"colab-df-convert\" onclick=\"convertToInteractive('df-bc369bef-9d61-4852-add5-50ce26c2b5a0')\"\n",
              "            title=\"Convert this dataframe to an interactive table.\"\n",
              "            style=\"display:none;\">\n",
              "\n",
              "  <svg xmlns=\"http://www.w3.org/2000/svg\" height=\"24px\" viewBox=\"0 -960 960 960\">\n",
              "    <path d=\"M120-120v-720h720v720H120Zm60-500h600v-160H180v160Zm220 220h160v-160H400v160Zm0 220h160v-160H400v160ZM180-400h160v-160H180v160Zm440 0h160v-160H620v160ZM180-180h160v-160H180v160Zm440 0h160v-160H620v160Z\"/>\n",
              "  </svg>\n",
              "    </button>\n",
              "\n",
              "  <style>\n",
              "    .colab-df-container {\n",
              "      display:flex;\n",
              "      gap: 12px;\n",
              "    }\n",
              "\n",
              "    .colab-df-convert {\n",
              "      background-color: #E8F0FE;\n",
              "      border: none;\n",
              "      border-radius: 50%;\n",
              "      cursor: pointer;\n",
              "      display: none;\n",
              "      fill: #1967D2;\n",
              "      height: 32px;\n",
              "      padding: 0 0 0 0;\n",
              "      width: 32px;\n",
              "    }\n",
              "\n",
              "    .colab-df-convert:hover {\n",
              "      background-color: #E2EBFA;\n",
              "      box-shadow: 0px 1px 2px rgba(60, 64, 67, 0.3), 0px 1px 3px 1px rgba(60, 64, 67, 0.15);\n",
              "      fill: #174EA6;\n",
              "    }\n",
              "\n",
              "    .colab-df-buttons div {\n",
              "      margin-bottom: 4px;\n",
              "    }\n",
              "\n",
              "    [theme=dark] .colab-df-convert {\n",
              "      background-color: #3B4455;\n",
              "      fill: #D2E3FC;\n",
              "    }\n",
              "\n",
              "    [theme=dark] .colab-df-convert:hover {\n",
              "      background-color: #434B5C;\n",
              "      box-shadow: 0px 1px 3px 1px rgba(0, 0, 0, 0.15);\n",
              "      filter: drop-shadow(0px 1px 2px rgba(0, 0, 0, 0.3));\n",
              "      fill: #FFFFFF;\n",
              "    }\n",
              "  </style>\n",
              "\n",
              "    <script>\n",
              "      const buttonEl =\n",
              "        document.querySelector('#df-bc369bef-9d61-4852-add5-50ce26c2b5a0 button.colab-df-convert');\n",
              "      buttonEl.style.display =\n",
              "        google.colab.kernel.accessAllowed ? 'block' : 'none';\n",
              "\n",
              "      async function convertToInteractive(key) {\n",
              "        const element = document.querySelector('#df-bc369bef-9d61-4852-add5-50ce26c2b5a0');\n",
              "        const dataTable =\n",
              "          await google.colab.kernel.invokeFunction('convertToInteractive',\n",
              "                                                    [key], {});\n",
              "        if (!dataTable) return;\n",
              "\n",
              "        const docLinkHtml = 'Like what you see? Visit the ' +\n",
              "          '<a target=\"_blank\" href=https://colab.research.google.com/notebooks/data_table.ipynb>data table notebook</a>'\n",
              "          + ' to learn more about interactive tables.';\n",
              "        element.innerHTML = '';\n",
              "        dataTable['output_type'] = 'display_data';\n",
              "        await google.colab.output.renderOutput(dataTable, element);\n",
              "        const docLink = document.createElement('div');\n",
              "        docLink.innerHTML = docLinkHtml;\n",
              "        element.appendChild(docLink);\n",
              "      }\n",
              "    </script>\n",
              "  </div>\n",
              "\n",
              "\n",
              "<div id=\"df-5a5b2164-1559-45f7-a2b9-251bd4d10c67\">\n",
              "  <button class=\"colab-df-quickchart\" onclick=\"quickchart('df-5a5b2164-1559-45f7-a2b9-251bd4d10c67')\"\n",
              "            title=\"Suggest charts\"\n",
              "            style=\"display:none;\">\n",
              "\n",
              "<svg xmlns=\"http://www.w3.org/2000/svg\" height=\"24px\"viewBox=\"0 0 24 24\"\n",
              "     width=\"24px\">\n",
              "    <g>\n",
              "        <path d=\"M19 3H5c-1.1 0-2 .9-2 2v14c0 1.1.9 2 2 2h14c1.1 0 2-.9 2-2V5c0-1.1-.9-2-2-2zM9 17H7v-7h2v7zm4 0h-2V7h2v10zm4 0h-2v-4h2v4z\"/>\n",
              "    </g>\n",
              "</svg>\n",
              "  </button>\n",
              "\n",
              "<style>\n",
              "  .colab-df-quickchart {\n",
              "      --bg-color: #E8F0FE;\n",
              "      --fill-color: #1967D2;\n",
              "      --hover-bg-color: #E2EBFA;\n",
              "      --hover-fill-color: #174EA6;\n",
              "      --disabled-fill-color: #AAA;\n",
              "      --disabled-bg-color: #DDD;\n",
              "  }\n",
              "\n",
              "  [theme=dark] .colab-df-quickchart {\n",
              "      --bg-color: #3B4455;\n",
              "      --fill-color: #D2E3FC;\n",
              "      --hover-bg-color: #434B5C;\n",
              "      --hover-fill-color: #FFFFFF;\n",
              "      --disabled-bg-color: #3B4455;\n",
              "      --disabled-fill-color: #666;\n",
              "  }\n",
              "\n",
              "  .colab-df-quickchart {\n",
              "    background-color: var(--bg-color);\n",
              "    border: none;\n",
              "    border-radius: 50%;\n",
              "    cursor: pointer;\n",
              "    display: none;\n",
              "    fill: var(--fill-color);\n",
              "    height: 32px;\n",
              "    padding: 0;\n",
              "    width: 32px;\n",
              "  }\n",
              "\n",
              "  .colab-df-quickchart:hover {\n",
              "    background-color: var(--hover-bg-color);\n",
              "    box-shadow: 0 1px 2px rgba(60, 64, 67, 0.3), 0 1px 3px 1px rgba(60, 64, 67, 0.15);\n",
              "    fill: var(--button-hover-fill-color);\n",
              "  }\n",
              "\n",
              "  .colab-df-quickchart-complete:disabled,\n",
              "  .colab-df-quickchart-complete:disabled:hover {\n",
              "    background-color: var(--disabled-bg-color);\n",
              "    fill: var(--disabled-fill-color);\n",
              "    box-shadow: none;\n",
              "  }\n",
              "\n",
              "  .colab-df-spinner {\n",
              "    border: 2px solid var(--fill-color);\n",
              "    border-color: transparent;\n",
              "    border-bottom-color: var(--fill-color);\n",
              "    animation:\n",
              "      spin 1s steps(1) infinite;\n",
              "  }\n",
              "\n",
              "  @keyframes spin {\n",
              "    0% {\n",
              "      border-color: transparent;\n",
              "      border-bottom-color: var(--fill-color);\n",
              "      border-left-color: var(--fill-color);\n",
              "    }\n",
              "    20% {\n",
              "      border-color: transparent;\n",
              "      border-left-color: var(--fill-color);\n",
              "      border-top-color: var(--fill-color);\n",
              "    }\n",
              "    30% {\n",
              "      border-color: transparent;\n",
              "      border-left-color: var(--fill-color);\n",
              "      border-top-color: var(--fill-color);\n",
              "      border-right-color: var(--fill-color);\n",
              "    }\n",
              "    40% {\n",
              "      border-color: transparent;\n",
              "      border-right-color: var(--fill-color);\n",
              "      border-top-color: var(--fill-color);\n",
              "    }\n",
              "    60% {\n",
              "      border-color: transparent;\n",
              "      border-right-color: var(--fill-color);\n",
              "    }\n",
              "    80% {\n",
              "      border-color: transparent;\n",
              "      border-right-color: var(--fill-color);\n",
              "      border-bottom-color: var(--fill-color);\n",
              "    }\n",
              "    90% {\n",
              "      border-color: transparent;\n",
              "      border-bottom-color: var(--fill-color);\n",
              "    }\n",
              "  }\n",
              "</style>\n",
              "\n",
              "  <script>\n",
              "    async function quickchart(key) {\n",
              "      const quickchartButtonEl =\n",
              "        document.querySelector('#' + key + ' button');\n",
              "      quickchartButtonEl.disabled = true;  // To prevent multiple clicks.\n",
              "      quickchartButtonEl.classList.add('colab-df-spinner');\n",
              "      try {\n",
              "        const charts = await google.colab.kernel.invokeFunction(\n",
              "            'suggestCharts', [key], {});\n",
              "      } catch (error) {\n",
              "        console.error('Error during call to suggestCharts:', error);\n",
              "      }\n",
              "      quickchartButtonEl.classList.remove('colab-df-spinner');\n",
              "      quickchartButtonEl.classList.add('colab-df-quickchart-complete');\n",
              "    }\n",
              "    (() => {\n",
              "      let quickchartButtonEl =\n",
              "        document.querySelector('#df-5a5b2164-1559-45f7-a2b9-251bd4d10c67 button');\n",
              "      quickchartButtonEl.style.display =\n",
              "        google.colab.kernel.accessAllowed ? 'block' : 'none';\n",
              "    })();\n",
              "  </script>\n",
              "</div>\n",
              "    </div>\n",
              "  </div>\n"
            ]
          },
          "metadata": {},
          "execution_count": 16
        }
      ]
    },
    {
      "cell_type": "markdown",
      "source": [
        "Нам интересно, какой средний рейтинг продукции Apple"
      ],
      "metadata": {
        "id": "VPxRJL0ryPB7"
      }
    },
    {
      "cell_type": "code",
      "source": [
        "x=data['user_rating']"
      ],
      "metadata": {
        "id": "WRzy5B_lzNLn"
      },
      "execution_count": 6,
      "outputs": []
    },
    {
      "cell_type": "code",
      "source": [
        "#Найдем точечную оценку для мат.ожидания\n",
        "mu_hat = np.mean(x)\n",
        "mu_hat"
      ],
      "metadata": {
        "colab": {
          "base_uri": "https://localhost:8080/"
        },
        "id": "o1rD1Cv9ubqy",
        "outputId": "e2aaadae-2794-404a-f308-68f2ae2f1d82"
      },
      "execution_count": 8,
      "outputs": [
        {
          "output_type": "execute_result",
          "data": {
            "text/plain": [
              "3.526955675976101"
            ]
          },
          "metadata": {},
          "execution_count": 8
        }
      ]
    },
    {
      "cell_type": "code",
      "source": [
        "#строим доверительный интервал\n",
        "rng = np.random.default_rng(111111)\n",
        "n_boot = 1000\n",
        "mu_hat_star = [np.mean(rng.choice(x, size=len(x))) for i in range(n_boot)]"
      ],
      "metadata": {
        "id": "M33EFu1wubuV"
      },
      "execution_count": 12,
      "outputs": []
    },
    {
      "cell_type": "code",
      "source": [
        "mu_hat_star[1:10]"
      ],
      "metadata": {
        "id": "ivhOggneckvk",
        "colab": {
          "base_uri": "https://localhost:8080/"
        },
        "outputId": "27260018-9994-485d-b639-d6195f99bbfd"
      },
      "execution_count": 13,
      "outputs": [
        {
          "output_type": "execute_result",
          "data": {
            "text/plain": [
              "[3.529943031818813,\n",
              " 3.5220925385577324,\n",
              " 3.49576212310685,\n",
              " 3.5482145338335416,\n",
              " 3.548145060441851,\n",
              " 3.523620953174934,\n",
              " 3.523134639433097,\n",
              " 3.5307072391274144,\n",
              " 3.5446019174656107]"
            ]
          },
          "metadata": {},
          "execution_count": 13
        }
      ]
    },
    {
      "cell_type": "code",
      "source": [
        "sns.displot(x=np.array(mu_hat_star))"
      ],
      "metadata": {
        "colab": {
          "base_uri": "https://localhost:8080/",
          "height": 523
        },
        "id": "hj0evSDTybkO",
        "outputId": "cbba3de5-be3a-471c-c3f4-87fc8ce0b3eb"
      },
      "execution_count": 14,
      "outputs": [
        {
          "output_type": "execute_result",
          "data": {
            "text/plain": [
              "<seaborn.axisgrid.FacetGrid at 0x7ed6bca9aef0>"
            ]
          },
          "metadata": {},
          "execution_count": 14
        },
        {
          "output_type": "display_data",
          "data": {
            "text/plain": [
              "<Figure size 500x500 with 1 Axes>"
            ],
            "image/png": "[encoded data removed]"
          },
          "metadata": {}
        }
      ]
    },
    {
      "cell_type": "markdown",
      "source": [
        "Наивный бутстрэп доверительный интервал для $\\mu=E(X_i)$:"
      ],
      "metadata": {
        "id": "JwKdKB9R08q9"
      }
    },
    {
      "cell_type": "code",
      "source": [
        "[np.quantile(mu_hat_star, 0.025), np.quantile(mu_hat_star, 0.975)]"
      ],
      "metadata": {
        "colab": {
          "base_uri": "https://localhost:8080/"
        },
        "id": "5IZyqlw8ybnQ",
        "outputId": "39f025f6-29ad-4923-f28e-6757977780a9"
      },
      "execution_count": 15,
      "outputs": [
        {
          "output_type": "execute_result",
          "data": {
            "text/plain": [
              "[3.4908937751841043, 3.5610723218007503]"
            ]
          },
          "metadata": {},
          "execution_count": 15
        }
      ]
    },
    {
      "cell_type": "markdown",
      "source": [
        "Разброс достаточно небольшой, высокая точность оценки"
      ],
      "metadata": {
        "id": "u1HzUSiH1zYL"
      }
    },
    {
      "cell_type": "markdown",
      "source": [
        "Давайте проверим, какая корреляция между оценкой user_rating\tс user_rating_ver\t(с другой платформы)\n"
      ],
      "metadata": {
        "id": "ClewWr7d21Ch"
      }
    },
    {
      "cell_type": "code",
      "source": [
        "def corr(x, y):\n",
        "  corr_mat = np.corrcoef(x, y)\n",
        "  return corr_mat[0, 1]"
      ],
      "metadata": {
        "id": "EKHd9djw39mG"
      },
      "execution_count": 18,
      "outputs": []
    },
    {
      "cell_type": "code",
      "source": [
        "w=data['user_rating_ver']\n",
        "boot_xw = IIDBootstrap(x, w, seed=111111)\n",
        "boot_xw.conf_int(corr, method='basic', reps=10000, size=0.95)"
      ],
      "metadata": {
        "colab": {
          "base_uri": "https://localhost:8080/"
        },
        "id": "9mEEJtioybqz",
        "outputId": "417038bf-5bbe-4ce0-99e3-d856bc876e1a"
      },
      "execution_count": 19,
      "outputs": [
        {
          "output_type": "execute_result",
          "data": {
            "text/plain": [
              "array([[0.7595642 ],\n",
              "       [0.78899003]])"
            ]
          },
          "metadata": {},
          "execution_count": 19
        }
      ]
    },
    {
      "cell_type": "markdown",
      "source": [
        "Давайте проверим, какая корреляция между оценкой user_rating\tс price\t(с другой платформы)"
      ],
      "metadata": {
        "id": "JIvoHBcz7es0"
      }
    },
    {
      "cell_type": "code",
      "source": [
        "w=data['price']\n",
        "boot_xw = IIDBootstrap(x, w, seed=111111)\n",
        "boot_xw.conf_int(corr, method='basic', reps=10000, size=0.95)"
      ],
      "metadata": {
        "colab": {
          "base_uri": "https://localhost:8080/"
        },
        "id": "_PhMK1dS7lky",
        "outputId": "70002c31-1bf0-492e-8de5-79f12eecb997"
      },
      "execution_count": 20,
      "outputs": [
        {
          "output_type": "execute_result",
          "data": {
            "text/plain": [
              "array([[0.01474899],\n",
              "       [0.06103042]])"
            ]
          },
          "metadata": {},
          "execution_count": 20
        }
      ]
    },
    {
      "cell_type": "markdown",
      "source": [
        "Пусть оценки рейтинга с разных платформ независимы, тогда мы можем проверить разницу средних значений рейтинга с\n",
        "разных платформ"
      ],
      "metadata": {
        "id": "vZd4m15E7zc_"
      }
    },
    {
      "cell_type": "code",
      "source": [
        "def mean_diff(x, y):\n",
        "  return np.mean(y) - np.mean(x)"
      ],
      "metadata": {
        "id": "FKzDkOCoybuT"
      },
      "execution_count": 21,
      "outputs": []
    },
    {
      "cell_type": "code",
      "source": [
        "y=data['user_rating_ver']"
      ],
      "metadata": {
        "id": "pZoV191L8H6h"
      },
      "execution_count": 22,
      "outputs": []
    },
    {
      "cell_type": "code",
      "source": [
        "boot_xy = IndependentSamplesBootstrap(x, y, seed=111111)\n",
        "boot_xy.conf_int(mean_diff, reps=10000, size=0.95, method='basic')"
      ],
      "metadata": {
        "colab": {
          "base_uri": "https://localhost:8080/"
        },
        "id": "GSdc_it9yb0o",
        "outputId": "161713fb-59b2-413a-e15f-e099713ad6bb"
      },
      "execution_count": 23,
      "outputs": [
        {
          "output_type": "execute_result",
          "data": {
            "text/plain": [
              "array([[-0.32729089],\n",
              "       [-0.21786856]])"
            ]
          },
          "metadata": {},
          "execution_count": 23
        }
      ]
    },
    {
      "cell_type": "code",
      "source": [],
      "metadata": {
        "id": "5qqrphWIyb38"
      },
      "execution_count": null,
      "outputs": []
    },
    {
      "cell_type": "code",
      "source": [],
      "metadata": {
        "id": "HTweInEtyb8m"
      },
      "execution_count": null,
      "outputs": []
    },
    {
      "cell_type": "code",
      "source": [],
      "metadata": {
        "id": "qlRLjcULycBo"
      },
      "execution_count": null,
      "outputs": []
    },
    {
      "cell_type": "code",
      "source": [],
      "metadata": {
        "id": "V-SdtHnGycFB"
      },
      "execution_count": null,
      "outputs": []
    },
    {
      "cell_type": "markdown",
      "source": [
        "# Лекция\n"
      ],
      "metadata": {
        "id": "pFsNvTDR_Qt1"
      }
    },
    {
      "cell_type": "code",
      "source": [
        "rng = np.random.default_rng(111111)\n",
        "x = rng.normal(loc=5, scale=4, size=20)"
      ],
      "metadata": {
        "id": "wqhjujmvycTo"
      },
      "execution_count": 25,
      "outputs": []
    },
    {
      "cell_type": "code",
      "source": [
        "x"
      ],
      "metadata": {
        "colab": {
          "base_uri": "https://localhost:8080/"
        },
        "id": "GEuKF45FdCCk",
        "outputId": "4b06e9a2-8392-460f-dc09-c256cbad3650"
      },
      "execution_count": null,
      "outputs": [
        {
          "output_type": "execute_result",
          "data": {
            "text/plain": [
              "array([ 8.75056101,  2.04660955,  5.82436808,  2.81933431,  3.55431834,\n",
              "        4.36497893, 10.94214485,  6.52441297,  8.72714931,  8.57755903,\n",
              "        4.47753664,  8.80829036,  5.072406  ,  3.54047913,  5.48872283,\n",
              "        7.6829816 ,  2.43211183, -3.41245328,  8.78998033, -1.76474929])"
            ]
          },
          "metadata": {},
          "execution_count": 5
        }
      ]
    },
    {
      "cell_type": "markdown",
      "source": [
        "$E(X_i) = 5$, $Var(X_i) = 4^2$, $X_i$ независимы."
      ],
      "metadata": {
        "id": "Gb4HBEyIdJPl"
      }
    },
    {
      "cell_type": "code",
      "source": [
        "np.mean(x)"
      ],
      "metadata": {
        "colab": {
          "base_uri": "https://localhost:8080/"
        },
        "id": "kpxtY-PLdQff",
        "outputId": "42e26168-32e4-4bb5-82d9-e006ad902828",
        "cellView": "code"
      },
      "execution_count": null,
      "outputs": [
        {
          "output_type": "execute_result",
          "data": {
            "text/plain": [
              "5.162337126364272"
            ]
          },
          "metadata": {},
          "execution_count": 9
        }
      ]
    },
    {
      "cell_type": "markdown",
      "source": [
        "Поиграем в настоящего исследователя, сделаем вид, что мы не знаем $E(X_i)$. Мы можем получить точечную оценку для математического ожидания. Естественная формула, $\\bar x = \\frac{x_1 +\\ldots + x_n}{n}$."
      ],
      "metadata": {
        "id": "4XGUDZK3deDg"
      }
    },
    {
      "cell_type": "code",
      "source": [
        "mu_hat = np.mean(x)\n",
        "mu_hat"
      ],
      "metadata": {
        "colab": {
          "base_uri": "https://localhost:8080/"
        },
        "id": "we_hIaIgdkBb",
        "outputId": "13a8bdc2-9bc4-4cc3-dc65-f42ffef82406",
        "cellView": "code"
      },
      "execution_count": null,
      "outputs": [
        {
          "output_type": "execute_result",
          "data": {
            "text/plain": [
              "5.162337126364272"
            ]
          },
          "metadata": {},
          "execution_count": 10
        }
      ]
    },
    {
      "cell_type": "markdown",
      "source": [
        "Как построить доверительный интервал для неизвестного $\\mu = E(X_i)$?\n",
        "Хочу точечную оценку превратить в интервальную. Достаточно «размножить» точечную оценку.\n",
        "\n",
        "Выход: из наших $n=20$ наблюдений случайно выберем $20$ с возможностью повтора."
      ],
      "metadata": {
        "id": "FtyCqfKVd_a6"
      }
    },
    {
      "cell_type": "code",
      "source": [
        "x_star1 = rng.choice(x, size=len(x))"
      ],
      "metadata": {
        "id": "mjBXTgleduHH",
        "cellView": "code"
      },
      "execution_count": null,
      "outputs": []
    },
    {
      "cell_type": "code",
      "source": [
        "x_star1"
      ],
      "metadata": {
        "colab": {
          "base_uri": "https://localhost:8080/"
        },
        "id": "zFMnoMQZgLLc",
        "outputId": "f8904434-8513-4c11-cb1a-3bbd93d98b43",
        "cellView": "code"
      },
      "execution_count": null,
      "outputs": [
        {
          "output_type": "execute_result",
          "data": {
            "text/plain": [
              "array([ 5.072406  ,  7.6829816 ,  7.6829816 , 10.94214485,  3.55431834,\n",
              "        3.55431834,  8.57755903,  3.54047913,  5.82436808,  4.36497893,\n",
              "        8.75056101,  8.80829036,  8.57755903, -3.41245328,  4.47753664,\n",
              "        6.52441297,  8.75056101,  2.04660955,  5.82436808,  7.6829816 ])"
            ]
          },
          "metadata": {},
          "execution_count": 13
        }
      ]
    },
    {
      "cell_type": "code",
      "source": [
        "np.mean(x_star1)"
      ],
      "metadata": {
        "colab": {
          "base_uri": "https://localhost:8080/"
        },
        "id": "MB1-lWCNgMO-",
        "outputId": "c8ec9b0b-50bd-459b-b96c-c673e086d2bc",
        "cellView": "code"
      },
      "execution_count": null,
      "outputs": [
        {
          "output_type": "execute_result",
          "data": {
            "text/plain": [
              "5.941348143400953"
            ]
          },
          "metadata": {},
          "execution_count": 14
        }
      ]
    },
    {
      "cell_type": "code",
      "source": [
        "x_star2 = rng.choice(x, size=len(x))\n",
        "np.mean(x_star2)"
      ],
      "metadata": {
        "colab": {
          "base_uri": "https://localhost:8080/"
        },
        "id": "6gKcWz2Ygf5-",
        "outputId": "c6b0cd51-4f9c-4902-9b33-ca98da81f0cd",
        "cellView": "code"
      },
      "execution_count": null,
      "outputs": [
        {
          "output_type": "execute_result",
          "data": {
            "text/plain": [
              "5.382909324145878"
            ]
          },
          "metadata": {},
          "execution_count": 16
        }
      ]
    },
    {
      "cell_type": "code",
      "source": [
        "x_star2"
      ],
      "metadata": {
        "colab": {
          "base_uri": "https://localhost:8080/"
        },
        "id": "G5A6xybEgodJ",
        "outputId": "45797b83-c3c6-4d16-e7b4-93fae65fec5e",
        "cellView": "code"
      },
      "execution_count": null,
      "outputs": [
        {
          "output_type": "execute_result",
          "data": {
            "text/plain": [
              "array([ 3.55431834,  7.6829816 ,  5.82436808,  3.54047913,  4.36497893,\n",
              "       10.94214485,  6.52441297,  3.55431834,  8.75056101,  7.6829816 ,\n",
              "        5.072406  ,  7.6829816 ,  5.82436808,  4.47753664, -1.76474929,\n",
              "        7.6829816 ,  2.43211183,  2.81933431,  8.57755903,  2.43211183])"
            ]
          },
          "metadata": {},
          "execution_count": 17
        }
      ]
    },
    {
      "cell_type": "code",
      "source": [
        "n_boot = 1000\n",
        "mu_hat_star = [np.mean(rng.choice(x, size=len(x))) for i in range(n_boot)]"
      ],
      "metadata": {
        "id": "SYXXdmwygtXM",
        "cellView": "code"
      },
      "execution_count": null,
      "outputs": []
    },
    {
      "cell_type": "code",
      "source": [
        "mu_hat_star[1:10]"
      ],
      "metadata": {
        "colab": {
          "base_uri": "https://localhost:8080/"
        },
        "id": "rKDdly7wg8O6",
        "outputId": "c6750a69-d1b8-42d3-9a84-fad9a43e45ac",
        "cellView": "code"
      },
      "execution_count": null,
      "outputs": [
        {
          "output_type": "execute_result",
          "data": {
            "text/plain": [
              "[6.713233840263672,\n",
              " 5.617551215067908,\n",
              " 5.35446519920025,\n",
              " 5.481905847543931,\n",
              " 6.692005176307161,\n",
              " 4.99720648239316,\n",
              " 5.301918245945239,\n",
              " 5.211700883514384,\n",
              " 5.676470991935876]"
            ]
          },
          "metadata": {},
          "execution_count": 19
        }
      ]
    },
    {
      "cell_type": "code",
      "source": [
        "sns.displot(x=np.array(mu_hat_star))"
      ],
      "metadata": {
        "colab": {
          "base_uri": "https://localhost:8080/",
          "height": 523
        },
        "id": "lazzsNf2qzcl",
        "outputId": "c32f75cc-5a0f-44c5-cda6-76923b0f557a",
        "cellView": "code"
      },
      "execution_count": null,
      "outputs": [
        {
          "output_type": "execute_result",
          "data": {
            "text/plain": [
              "<seaborn.axisgrid.FacetGrid at 0x79696230a350>"
            ]
          },
          "metadata": {},
          "execution_count": 46
        },
        {
          "output_type": "display_data",
          "data": {
            "text/plain": [
              "<Figure size 500x500 with 1 Axes>"
            ],
            "image/png": "[encoded data removed]"
          },
          "metadata": {}
        }
      ]
    },
    {
      "cell_type": "markdown",
      "source": [
        "Наивный бутстрэп доверительный интервал для $\\mu=E(X_i)$:"
      ],
      "metadata": {
        "id": "_mzMspolhNBq"
      }
    },
    {
      "cell_type": "code",
      "source": [
        "[np.quantile(mu_hat_star, 0.025), np.quantile(mu_hat_star, 0.975)]"
      ],
      "metadata": {
        "colab": {
          "base_uri": "https://localhost:8080/"
        },
        "id": "-PEOinXEg_mT",
        "outputId": "32a509f4-ec4d-41a1-a789-9000b5f460af",
        "cellView": "code"
      },
      "execution_count": null,
      "outputs": [
        {
          "output_type": "execute_result",
          "data": {
            "text/plain": [
              "[3.466441480784882, 6.62888113822821]"
            ]
          },
          "metadata": {},
          "execution_count": 20
        }
      ]
    },
    {
      "cell_type": "markdown",
      "source": [
        "Плюсы:\n",
        "1. Мы можем не знать формулы для дисперсии оценки.\n",
        "\n",
        "Мы не использовали $Var(\\hat\\mu)$.\n",
        "\n",
        "2. В большинстве случаев формулы верны при больших $n$.\n",
        "И бутстрэп тоже требует больших $n$.\n",
        "\n",
        "Часто оказывается, что большое $n$, нужное для «правильного» варианта бутстрэпа, гораздо меньше, чем большое $n$, нужное для центральной предельной теоремы."
      ],
      "metadata": {
        "id": "HtA1yc6Ahx21"
      }
    },
    {
      "cell_type": "code",
      "source": [
        "boot_x = IIDBootstrap(x, seed=111111)\n",
        "boot_x.conf_int(np.mean, method='basic', reps=10000, size=0.95)"
      ],
      "metadata": {
        "colab": {
          "base_uri": "https://localhost:8080/"
        },
        "id": "viej6DdihaMa",
        "outputId": "6e74d3f2-7673-461c-e452-682b25cc130d",
        "cellView": "code"
      },
      "execution_count": null,
      "outputs": [
        {
          "output_type": "execute_result",
          "data": {
            "text/plain": [
              "array([[3.67824331],\n",
              "       [6.76505453]])"
            ]
          },
          "metadata": {},
          "execution_count": 21
        }
      ]
    },
    {
      "cell_type": "code",
      "source": [
        "boot_x.conf_int(np.std, method='basic', reps=10000, size=0.95)"
      ],
      "metadata": {
        "id": "51Or1rm-n8MN",
        "outputId": "2223d4dc-6b4b-4f77-ed5d-ecee382f12d9",
        "colab": {
          "base_uri": "https://localhost:8080/"
        },
        "cellView": "code"
      },
      "execution_count": null,
      "outputs": [
        {
          "output_type": "execute_result",
          "data": {
            "text/plain": [
              "array([[2.63833899],\n",
              "       [4.8650567 ]])"
            ]
          },
          "metadata": {},
          "execution_count": 39
        }
      ]
    },
    {
      "cell_type": "markdown",
      "source": [
        "Tim Hestergerg, What teachers should know about bootstrap?"
      ],
      "metadata": {
        "id": "7D5dYU17jvOP"
      }
    },
    {
      "cell_type": "code",
      "source": [
        "w = x + rng.normal(loc=1, scale=3, size=len(x))"
      ],
      "metadata": {
        "id": "KUQjnfqAjEup",
        "cellView": "code"
      },
      "execution_count": null,
      "outputs": []
    },
    {
      "cell_type": "code",
      "source": [
        "np.corrcoef(x, w)"
      ],
      "metadata": {
        "id": "6VOINc7flgAy",
        "cellView": "code"
      },
      "execution_count": null,
      "outputs": []
    },
    {
      "cell_type": "code",
      "source": [
        "def corr(x, y):\n",
        "  corr_mat = np.corrcoef(x, y)\n",
        "  return corr_mat[0, 1]"
      ],
      "metadata": {
        "id": "kajBOh2GlkLX",
        "cellView": "code"
      },
      "execution_count": null,
      "outputs": []
    },
    {
      "cell_type": "code",
      "source": [
        "corr(x, w)"
      ],
      "metadata": {
        "colab": {
          "base_uri": "https://localhost:8080/"
        },
        "id": "oDue_dILlxAe",
        "outputId": "d9f19f7e-b23e-4c03-b642-4ded52a18e1d",
        "cellView": "code"
      },
      "execution_count": null,
      "outputs": [
        {
          "output_type": "execute_result",
          "data": {
            "text/plain": [
              "0.8326566707478291"
            ]
          },
          "metadata": {},
          "execution_count": 25
        }
      ]
    },
    {
      "cell_type": "code",
      "source": [
        "x"
      ],
      "metadata": {
        "colab": {
          "base_uri": "https://localhost:8080/"
        },
        "id": "3S5hydVKlyzZ",
        "outputId": "fedfc8c5-cc0f-4571-d1d0-ad41caa5385a",
        "cellView": "code"
      },
      "execution_count": null,
      "outputs": [
        {
          "output_type": "execute_result",
          "data": {
            "text/plain": [
              "array([ 8.75056101,  2.04660955,  5.82436808,  2.81933431,  3.55431834,\n",
              "        4.36497893, 10.94214485,  6.52441297,  8.72714931,  8.57755903,\n",
              "        4.47753664,  8.80829036,  5.072406  ,  3.54047913,  5.48872283,\n",
              "        7.6829816 ,  2.43211183, -3.41245328,  8.78998033, -1.76474929])"
            ]
          },
          "metadata": {},
          "execution_count": 26
        }
      ]
    },
    {
      "cell_type": "code",
      "source": [
        "w"
      ],
      "metadata": {
        "colab": {
          "base_uri": "https://localhost:8080/"
        },
        "id": "dO8HcKmPl8WX",
        "outputId": "815498ce-6264-4869-cdcb-8519769230c8",
        "cellView": "code"
      },
      "execution_count": null,
      "outputs": [
        {
          "output_type": "execute_result",
          "data": {
            "text/plain": [
              "array([11.91168901,  2.56161307, -0.05905122,  5.75234653,  1.9965966 ,\n",
              "        4.89802143, 13.18925613,  5.94531856, 13.8390005 , 12.39287802,\n",
              "        2.98500801,  7.49480114,  2.89315956,  7.37127129,  6.71418125,\n",
              "        7.15422325,  5.34030994, -0.66562737, 11.09626948, -4.77853031])"
            ]
          },
          "metadata": {},
          "execution_count": 27
        }
      ]
    },
    {
      "cell_type": "code",
      "source": [
        "obs_id = rng.choice(range(len(x)), size=len(x))\n",
        "obs_id"
      ],
      "metadata": {
        "colab": {
          "base_uri": "https://localhost:8080/"
        },
        "id": "l1uUlNfrl9Ja",
        "outputId": "53f5e085-b994-410c-ac4a-bfca3f318e16",
        "cellView": "code"
      },
      "execution_count": null,
      "outputs": [
        {
          "output_type": "execute_result",
          "data": {
            "text/plain": [
              "array([14,  2, 12,  4,  9, 18, 16, 19,  4,  9,  6, 11, 10, 13, 12,  1,  9,\n",
              "        9,  2, 12])"
            ]
          },
          "metadata": {},
          "execution_count": 28
        }
      ]
    },
    {
      "cell_type": "code",
      "source": [
        "x_star1 = x[obs_id]\n",
        "x_star1"
      ],
      "metadata": {
        "colab": {
          "base_uri": "https://localhost:8080/"
        },
        "id": "KTNon6vMmK0u",
        "outputId": "17b0951a-59fe-4e68-d669-ec96982e8a2d",
        "cellView": "code"
      },
      "execution_count": null,
      "outputs": [
        {
          "output_type": "execute_result",
          "data": {
            "text/plain": [
              "array([ 5.48872283,  5.82436808,  5.072406  ,  3.55431834,  8.57755903,\n",
              "        8.78998033,  2.43211183, -1.76474929,  3.55431834,  8.57755903,\n",
              "       10.94214485,  8.80829036,  4.47753664,  3.54047913,  5.072406  ,\n",
              "        2.04660955,  8.57755903,  8.57755903,  5.82436808,  5.072406  ])"
            ]
          },
          "metadata": {},
          "execution_count": 30
        }
      ]
    },
    {
      "cell_type": "code",
      "source": [
        "w_star1 = w[obs_id]\n",
        "w_star1"
      ],
      "metadata": {
        "colab": {
          "base_uri": "https://localhost:8080/"
        },
        "id": "I9UZ-qXdmVJd",
        "outputId": "934ad9a7-91c2-4b59-8c54-cb549f172544",
        "cellView": "code"
      },
      "execution_count": null,
      "outputs": [
        {
          "output_type": "execute_result",
          "data": {
            "text/plain": [
              "array([ 6.71418125, -0.05905122,  2.89315956,  1.9965966 , 12.39287802,\n",
              "       11.09626948,  5.34030994, -4.77853031,  1.9965966 , 12.39287802,\n",
              "       13.18925613,  7.49480114,  2.98500801,  7.37127129,  2.89315956,\n",
              "        2.56161307, 12.39287802, 12.39287802, -0.05905122,  2.89315956])"
            ]
          },
          "metadata": {},
          "execution_count": 31
        }
      ]
    },
    {
      "cell_type": "code",
      "source": [
        "corr(x_star1, w_star1)"
      ],
      "metadata": {
        "colab": {
          "base_uri": "https://localhost:8080/"
        },
        "id": "CQkhbKqFmaLn",
        "outputId": "26fb2d00-4918-48d2-9885-aba403e20443",
        "cellView": "code"
      },
      "execution_count": null,
      "outputs": [
        {
          "output_type": "execute_result",
          "data": {
            "text/plain": [
              "0.8248153261423454"
            ]
          },
          "metadata": {},
          "execution_count": 32
        }
      ]
    },
    {
      "cell_type": "code",
      "source": [
        "boot_xw = IIDBootstrap(x, w, seed=111111)\n",
        "boot_xw.conf_int(corr, method='basic', reps=10000, size=0.95)"
      ],
      "metadata": {
        "colab": {
          "base_uri": "https://localhost:8080/"
        },
        "id": "-kIHTr3jmga0",
        "outputId": "da484593-8111-4bde-90dc-cc69a97af0e2",
        "cellView": "code"
      },
      "execution_count": null,
      "outputs": [
        {
          "output_type": "execute_result",
          "data": {
            "text/plain": [
              "array([[0.73375844],\n",
              "       [1.02066742]])"
            ]
          },
          "metadata": {},
          "execution_count": 34
        }
      ]
    },
    {
      "cell_type": "code",
      "source": [
        "4 - 3 == 1"
      ],
      "metadata": {
        "colab": {
          "base_uri": "https://localhost:8080/"
        },
        "id": "ATYMCnExm8Ug",
        "outputId": "a6dd0a80-809b-41ac-9464-0e294e6d59cd",
        "cellView": "code"
      },
      "execution_count": null,
      "outputs": [
        {
          "output_type": "execute_result",
          "data": {
            "text/plain": [
              "True"
            ]
          },
          "metadata": {},
          "execution_count": 35
        }
      ]
    },
    {
      "cell_type": "code",
      "source": [
        "0.4 - 0.3 == 0.1"
      ],
      "metadata": {
        "colab": {
          "base_uri": "https://localhost:8080/"
        },
        "id": "lpKjRdyAnPEm",
        "outputId": "93e21762-4342-4c1d-82cf-78311fda5e50",
        "cellView": "code"
      },
      "execution_count": null,
      "outputs": [
        {
          "output_type": "execute_result",
          "data": {
            "text/plain": [
              "False"
            ]
          },
          "metadata": {},
          "execution_count": 36
        }
      ]
    },
    {
      "cell_type": "code",
      "source": [
        "y = rng.normal(loc=9, scale=3, size=25)"
      ],
      "metadata": {
        "id": "R3VBUDFgnRGI",
        "cellView": "code"
      },
      "execution_count": null,
      "outputs": []
    },
    {
      "cell_type": "code",
      "source": [
        "y"
      ],
      "metadata": {
        "colab": {
          "base_uri": "https://localhost:8080/"
        },
        "id": "tJUcFAhgnufc",
        "outputId": "469aaea3-c7e4-4b9b-9553-f8f47d7c7adf",
        "cellView": "code"
      },
      "execution_count": null,
      "outputs": [
        {
          "output_type": "execute_result",
          "data": {
            "text/plain": [
              "array([12.14268681, 12.17501015,  6.73312431, 11.99569635,  5.82977991,\n",
              "        0.8671864 ,  7.99425006,  8.21486399,  9.23877598,  8.63018244,\n",
              "        7.6098239 ,  8.11828919,  6.51132991, 13.55765964,  8.7764837 ,\n",
              "        7.66390195, 10.48363553, 12.94911141,  6.01879175, 11.17176947,\n",
              "       12.4419654 ,  8.79761341,  5.98529289,  6.86739964,  4.7187951 ])"
            ]
          },
          "metadata": {},
          "execution_count": 43
        }
      ]
    },
    {
      "cell_type": "code",
      "source": [
        "def mean_diff(x, y):\n",
        "  return np.mean(y) - np.mean(x)"
      ],
      "metadata": {
        "id": "r4ouZx0vnvEi",
        "cellView": "code"
      },
      "execution_count": null,
      "outputs": []
    },
    {
      "cell_type": "code",
      "source": [
        "boot_xy = IndependentSamplesBootstrap(x, y, seed=111111)\n",
        "boot_xy.conf_int(mean_diff, reps=10000, size=0.95, method='basic')"
      ],
      "metadata": {
        "colab": {
          "base_uri": "https://localhost:8080/"
        },
        "id": "jdUln7_XpgSr",
        "outputId": "aefbeed0-89a6-4bf3-9834-71ce6c9180f2",
        "cellView": "code"
      },
      "execution_count": null,
      "outputs": [
        {
          "output_type": "execute_result",
          "data": {
            "text/plain": [
              "array([[1.53302614],\n",
              "       [5.35966773]])"
            ]
          },
          "metadata": {},
          "execution_count": 45
        }
      ]
    },
    {
      "cell_type": "code",
      "source": [
        "?boot_xy.conf_int"
      ],
      "metadata": {
        "id": "LPvXCmHmplo-",
        "cellView": "code"
      },
      "execution_count": null,
      "outputs": []
    },
    {
      "cell_type": "code",
      "source": [],
      "metadata": {
        "id": "QZ2X6gq_rI3w"
      },
      "execution_count": null,
      "outputs": []
    }
  ]
}